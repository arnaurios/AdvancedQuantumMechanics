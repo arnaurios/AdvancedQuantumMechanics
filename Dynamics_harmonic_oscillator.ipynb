{
 "cells": [
  {
   "cell_type": "markdown",
   "id": "ede1145c",
   "metadata": {},
   "source": [
    "# Time evolution of harmonic oscillator states in real space\n",
    "This computational notebook provides the tools to prepare harmonic oscillator states in one dimensional space. One can then shift the position of these states or excite them with a given momentum, to observed the real-time dynamics of the states. This is useful for a variety of aspects, but particularly for coherent states. "
   ]
  },
  {
   "cell_type": "markdown",
   "id": "23bc89ac",
   "metadata": {},
   "source": [
    "## Split operator method\n",
    "This notebook solves the dynamics of the Harmonic Oscillator (HO) in a 1D grid in space. This is set-up as a vector of $N_x=100$ points from $x=-6$ to $x=+6$ in HO units. The time evolution is obtained using the Split-Operator Method. Here, one splits the HO hamiltonian $\\hat H=\\hat K + \\hat U$ into kinetic $\\hat K = \\frac{\\hat p^2}{2}$ and potential $\\hat U = \\frac{\\hat x^2}{2}$ terms. The time evolution operator is formally written as $\\hat U(\\delta t)=e^{-i \\hat H \\delta t}$. One can also define time evolution operators for the split parts of the hamiltonian, so that $\\hat U_p(\\delta t)=e^{-i \\hat K \\delta t}$ is diagonal in momentum space and associated to the kinetic energy, and $\\hat U_x(\\delta t)=e^{-i \\hat U \\delta t}$ is diagonal in real space and linked to the potential energy.\n",
    "\n",
    "The time evolution starts with an eigenstate of the Harmonic Oscillator in real space, $\\psi_n(x,t=0)$. One would like to apply the full operator $\\hat U(\\delta t)$ on this wave function, but this is not straightforward because $\\hat K$ cannot be easily expressed in real space. The Split Operator Method consists in using the replacement\n",
    "$$ \\hat U(\\delta t) \\approx \\hat U_x(\\delta t/2) \\hat U_p(\\delta t) \\hat U_x(\\delta t/2)$$\n",
    "which is valid for sufficiently small $\\delta t$. Note that now each term is independently diagonal in real or momentum space. For instance, the real space part consists simply in multiplying by a phase, \n",
    "$$ \\hat U_x(\\delta t/2) \\psi_n(x,t) = e^{-i \\frac{x \\delta t}{4} }\\psi_n(x,t). $$\n",
    "\n",
    "To apply the operator in momentum space, one can transform the wave function into momentum space, \n",
    "$\\psi_n(p,t) = FT \\{ \\psi_n(x,t) \\}$. This can be done efficiently by performing a Fast Fourier Transform on the discrete grid of points in real space. This requires some careful manipulation of the indices in the grid in real and momentum space, which is discussed below. With the wavefunction in momentum space, the small time step in the momentum representation is again just a phase multiplication, $$ \\hat U_p(\\delta t) \\psi_n(p,t) = e^{-i \\frac{p}{2}\\delta t}\\psi_n(p,t=0). $$"
   ]
  },
  {
   "cell_type": "markdown",
   "id": "4e60691a",
   "metadata": {},
   "source": [
    "## Code\n",
    "### Real space grid\n",
    "We start by loading the relevant python packages and generating a mesh in real space, which is stored in the xx vector. Note that this is slightly offset from the lower limit and goes through zero."
   ]
  },
  {
   "cell_type": "code",
   "execution_count": null,
   "id": "7e9998ad",
   "metadata": {},
   "outputs": [],
   "source": [
    "# coding: utf-8\n",
    "##########################################################################\n",
    "# THIS PYTHON CODE SOLVES THE HARMONIC OSCILLATOR IN REAL SPACE\n",
    "# USING THE FOURIER GRID HAMILTONIAN METHOD\n",
    "##########################################################################\n",
    "import numpy as np\n",
    "from numpy import linalg as LA\n",
    "import math\n",
    "import matplotlib.pyplot as plt\n",
    "from scipy.fft import fft, ifft\n",
    "from tqdm import tqdm\n",
    "from harmonic_oscillator import *\n",
    "\n",
    "zi=complex(0,1);\n",
    "pi=math.pi\n",
    "\n",
    "# NUMBER OF EIGENSTATES TO CONSIDER\n",
    "N_eigen=3;\n",
    "\n",
    "# REAL-SPACE MESH DIMENSION AND NUMBER POINTS\n",
    "xL=6.\n",
    "Nx=100\n",
    "\n",
    "# GRID SPACING\n",
    "delx=2*xL/Nx\n",
    "\n",
    "# MESH IN X-SPACE - FROM -xL+del x UP TO +xL\n",
    "xx=np.zeros(Nx)\n",
    "xx=delx*(np.arange(Nx)-Nx/2.+1)\n",
    "print(xx)\n",
    "indelx_origin=int(Nx/2-1)\n"
   ]
  },
  {
   "cell_type": "markdown",
   "id": "e7b5c51b",
   "metadata": {},
   "source": [
    "### Momentum space grid\n",
    "We generate a momentum space grid. The choice of momenta is entirely dictated by the use of the Fast Fourier Transform algorithm and the transition from a continuous to a discrete Fourier transform."
   ]
  },
  {
   "cell_type": "code",
   "execution_count": null,
   "id": "f19b3afd",
   "metadata": {},
   "outputs": [],
   "source": [
    "# SPACING IN MOMENTUM SPACE\n",
    "delp=2.*pi/(2.*xL)\n",
    "\n",
    "# MESH IN MOMENTUM SPACE\n",
    "pp=np.zeros(Nx)\n",
    "for i in range(0,Nx) :\n",
    "    pp[i]=(i-Nx/2)*delp\n",
    "pp2=np.power(pp,2)"
   ]
  },
  {
   "cell_type": "markdown",
   "id": "e2b08578",
   "metadata": {},
   "source": [
    "### Initial wavefunctions\n",
    "We set up a number of $N_\\text{eigen}$ eigenvalues of the harmonic oscillator. The <harmonic_oscillator.py> routine in this folder generates these from the standard formula. The eigenvalues are set, and these are plotted for convenience."
   ]
  },
  {
   "cell_type": "code",
   "execution_count": null,
   "id": "44dd5a4b",
   "metadata": {},
   "outputs": [],
   "source": [
    "# RENORMALIZE WAVEFUNCTIONS, COMUPTE NORMS FOR CROSS-CHECK AND PLOT\n",
    "phi=np.zeros([Nx,N_eigen],dtype=complex);\n",
    "norm=np.zeros(N_eigen);\n",
    "ener=np.zeros(N_eigen);\n",
    "for n in range(N_eigen) :\n",
    "    phi[:,n] = wfho(n,xx)\n",
    "    norm[n]=np.real( np.sum( np.conj(phi[:,n])*phi[:,n] )*delx )\n",
    "    ener[n]=n+0.5\n",
    "\n",
    "    #plot wavefunction as a function of position\n",
    "    plt.plot(xx,ener[n]*np.ones(Nx),'--',color='grey');\n",
    "    plt.plot(xx,ener[n]+phi[:,n],'-');"
   ]
  },
  {
   "cell_type": "markdown",
   "id": "aeec5842",
   "metadata": {},
   "source": [
    "### Time evolution: initial conditioms\n",
    "Here, we set up the initial condition for the time evolution. The eigenstates are shifted by $p_0$ ($x_0$) units in momentum (real) space. We also set up the vectors that are necessary for the FFT. "
   ]
  },
  {
   "cell_type": "code",
   "execution_count": null,
   "id": "afdb9850",
   "metadata": {},
   "outputs": [],
   "source": [
    "# The initial wave function is shifted by p_0 units in momentum space, and x_0 units in real space.\n",
    "p0=1.0\n",
    "x0=0.0\n",
    "\n",
    "# ... 0 - Nx-1 -> Range needed in the Fourier transform -> Given by iNx\n",
    "iNx=np.zeros(Nx)\n",
    "ii=np.arange(1,Nx/2+1,1)\n",
    "\n",
    "phift=np.zeros(Nx)\n",
    "ppift=np.zeros([Nx,N_eigen],dtype=complex);\n",
    "for nn in range(N_eigen) :\n",
    "    phift=phi[:,nn]\n",
    "    # SHIFT IN MOMENTUM SPACE\n",
    "    phift=np.exp( zi*p0*xx )*phift\n",
    "    # FOURIER TRANSFORM\n",
    "    ppp=np.exp(-zi*pi*np.arange(Nx))*fft( np.exp(-zi*pi*np.arange(Nx))*phift )\n",
    "    # SHIFT IN POSITION SPACE\n",
    "    ppp_shift=np.exp(-zi*x0*pp)*ppp\n",
    "    # INVERSE FOURIER TRANSFORM\n",
    "    ppift[:,nn]=np.exp(+zi*pi*np.arange(Nx))*ifft( np.exp(+zi*pi*np.arange(Nx))*ppp_shift )"
   ]
  },
  {
   "cell_type": "markdown",
   "id": "1ad32269",
   "metadata": {},
   "source": [
    "### Time evolution\n",
    "Here, the time evolution is performed for $N_t$ in steps of $\\delta t = dt$. This is performed for one specific eigenvalue $n_\\text{dyn}$. "
   ]
  },
  {
   "cell_type": "code",
   "execution_count": null,
   "id": "d9930410",
   "metadata": {},
   "outputs": [],
   "source": [
    "# START DYNAMICS\n",
    "Nt=10\n",
    "dt=0.25\n",
    "nn_dyn=0\n",
    "wfx0=ppift[:,nn_dyn]\n",
    "x2=np.power(xx,2)\n",
    "for it in tqdm(range (Nt), desc=\"Loading...\"):\n",
    "    print(it)\n",
    "    # HALF STEP IN REAL SPACE REPRESENTATION\n",
    "    wfx1=np.exp(-zi*dt*x2/4)*wfx0\n",
    "    # FOURIER TRANSFORM\n",
    "    wfp0=np.exp(-zi*pi*np.arange(Nx))*fft( np.exp(-zi*pi*np.arange(Nx))*wfx1 )\n",
    "    # ONE STEP IN MOMENTUM SPACE (FACTOR OF 2??)\n",
    "    wfp1=np.exp(-zi*dt/2*pp2)*wfp0\n",
    "    # INVERSE FOURIER TRANSFORM\n",
    "    wfx2=np.exp(+zi*pi*np.arange(Nx))*ifft( np.exp(+zi*pi*np.arange(Nx))*wfp1 )\n",
    "    # HALF STEP IN REAL SPACE REPRESENTATION\n",
    "    wfx3=np.exp(-zi*dt*x2/4)*wfx2\n",
    "\n",
    "    wfx0=wfx3\n",
    "    plt.plot(xx,np.conj(wfx0)*wfx0)\n",
    "    plt.savefig(\"anim1/fig\" + str(it).rjust(4,'0') + \".png\",transparent=False)\n",
    "#    plt.cla()\n",
    "    plt.show()\n"
   ]
  },
  {
   "cell_type": "code",
   "execution_count": null,
   "id": "a088e813",
   "metadata": {},
   "outputs": [],
   "source": []
  }
 ],
 "metadata": {
  "kernelspec": {
   "display_name": "Python 3 (ipykernel)",
   "language": "python",
   "name": "python3"
  },
  "language_info": {
   "codemirror_mode": {
    "name": "ipython",
    "version": 3
   },
   "file_extension": ".py",
   "mimetype": "text/x-python",
   "name": "python",
   "nbconvert_exporter": "python",
   "pygments_lexer": "ipython3",
   "version": "3.9.14"
  }
 },
 "nbformat": 4,
 "nbformat_minor": 5
}
